{
 "cells": [
  {
   "attachments": {},
   "cell_type": "markdown",
   "metadata": {},
   "source": [
    "Assessment\\\n",
    "\\\n",
    "Enclosed is a programming problem. We ask that you read the description thoroughly then create a simple program to solve the problem.\n",
    "For the solution, we request that you use (in no particular order) Javascript (e.g. TypeScript, React),PHP (e.g. Symfony) or Python as a base for your application. You may use 3th party libraries or tools for building or testing purposes.\n",
    "\n",
    "Deliverables\n",
    "- a brief explanation of your design and assumptions along with your code;\n",
    "\n",
    "- include a README file explaining how to run and test your program;\n",
    "\n",
    "\n",
    "- create 1 or more classes that can be used to execute your program;\n",
    "- make sure your code is wel documented;\n",
    "- create a unit test that can be used to test your program;\n",
    "- make sure to deliver your code using a git repository;\n",
    "Please email the link and instructions of your completed solution to erik.de.jong@globescope.nl\n",
    "\n",
    "Introduction\n",
    "The problem below require some kind of input. You are free to implement any mechanism for feeding\n",
    "input into your solution but it is suggested that you use unit tests to drive the solution (e.g. PHPUnit,\n",
    "Jest, Python or any other framework). You should provide sufficient evidence that your solution is\n",
    "complete by, as a minimum, indicating that it works correctly against the supplied test data. You can\n",
    "mock all data for your application as you wish.\n",
    "\n",
    "\n",
    "Problem: Trains\n",
    "Problem:  The local commuter railroad services a number of towns.  Because of monetary concerns,\n",
    "all of the tracks are one-way. That is, a route from A to B does not imply the existence of a route from\n",
    "B to A. In fact, even if both of these routes do happen to exist, they are distinct and are not necessarily\n",
    "the same distance!\n",
    "\n",
    "The purpose of this problem is to help the railroad provide its customers with information about the\n",
    "routes. In particular, you will compute the distance along a certain route, the number of different routes\n",
    "between two towns, and the shortest route between two towns.\n",
    "\n",
    "Input: A directed graph where a node represents a town and an edge represents a route between two\n",
    "towns. The weighting of the edge represents the distance between the two towns. A given route will\n",
    "never appear more than once, and for a given route, the starting and ending town will not be the same\n",
    "town.\n",
    "\n",
    "Output: For test input 1 through 5, if no such route exists, output NO SUCH ROUTE. Otherwise,\n",
    "follow the route as given; do not make any extra stops!  For example, the first problem means to start\n",
    "at city A, then travel directly to city B (a distance of 5), then directly to city C (a distance of 4).\n",
    "1. The distance of the route A-B-C.\n",
    "2. The distance of the route A-D.\n",
    "3. The distance of the route A-D-C.\n",
    "4. The distance of the route A-E-B-C-D.\n",
    "5. The distance of the route A-E-D.\n",
    "6. The number of trips starting at C and ending at C with a maximum of 3 stops. In the sample\n",
    "data below, there are two such trips: C-D-C (2 stops). and C-E-B-C (3 stops).\n",
    "7. The number of trips starting at A and ending at C with exactly 4 stops. In the sample data\n",
    "below, there are three such trips: A to C (via B,C,D); A to C (via D,C,D); and A to C (via\n",
    "D,E,B).\n",
    "8. The length of the shortest route (in terms of distance to travel) from A to C.\n",
    "9. The length of the shortest route (in terms of distance to travel) from B to B.\n",
    "10. The number of different routes from C to C with a distance of less than 30. In the sample data,\n",
    "the trips are: CDC, CEBC, CEBCDC, CDCEBC, CDEBC, CEBCEBC, CEBCEBCEBC.\n",
    "\n",
    "\n",
    "Test Input:\n",
    "For the test input, the towns are named using the first few letters of the alphabet from A to E.  A route\n",
    "between two towns (A to B) with a distance of 5 is represented as AB5.\\\n",
    "Graph: AB5, BC4, CD8, DC8, DE6, AD5, CE2, EB3, AE7\n",
    "\n",
    "Expected Output:\n",
    "\n",
    "Output #1: 9\\\n",
    "Output #2: 5\\\n",
    "Output #3: 13\\\n",
    "Output #4: 22\\\n",
    "Output #5: NO SUCH ROUTE\\\n",
    "Output #6: 2\\\n",
    "Output #7: 3\\\n",
    "Output #8: 9\\\n",
    "Output #9: 9\\\n",
    "Output #10: 7"
   ]
  },
  {
   "attachments": {},
   "cell_type": "markdown",
   "metadata": {},
   "source": [
    "# 2 ways in my mind to go about the problem : \n",
    "\n",
    "A: 1 class 'Routefinder' containing all routes and functions. Bit harder to code, but more useable and scalable (I'm assuming). Also likely hard for a reader to understand quickly. \n",
    "\n",
    "B: 2 or more classes: routefinder class, station class and possibly a route class. Should make the whole thing more readable, but a bit longer than needed. "
   ]
  },
  {
   "attachments": {},
   "cell_type": "markdown",
   "metadata": {},
   "source": [
    "# Required functions: \n",
    "\n",
    "\n",
    "**1   -   def add_route(\"TOWN1TOWN2DISTANCE\")**\n",
    "\n",
    "adds a 1-way route between Town1 and Town2 with a certain distance. Requires a string with 2 uppercase letters and 1 number. Right now limited to ABCDE and 2-8. Use REGEX to limit input?\n",
    "\n",
    "\n",
    "**2   -   def get_route_distance([towns])**\n",
    "\n",
    "distance along a certain route (1 - 5)\n",
    "simply returns the addes distances between the given towns, or returns \"NO SUCH ROUTE\".\n",
    "\n",
    "**3   -   def get_possible_routes(Town1,Town2,Maxstops=,Exactstops=,Maxdistance=)**\n",
    "\n",
    "the number of different routes between two towns given a max (6) or specified number of stops (7) or with a max distance less than x (10)\n",
    "Returns the possible routes between town 1 and 2. Optional arguments : Maxstops, Exactstops, Maxdistance\n",
    "\n",
    "**4   -   def get_shortest_route(Town1,Town2)**\n",
    "\n",
    "the shortest route between two towns. (8, 9)\n",
    "Returns the shortest route between town 1 and 2\n"
   ]
  },
  {
   "attachments": {},
   "cell_type": "markdown",
   "metadata": {},
   "source": [
    "# Libraries: \n",
    "\n",
    "unittest (for unit tests...)"
   ]
  },
  {
   "attachments": {},
   "cell_type": "markdown",
   "metadata": {},
   "source": [
    "# Design: add_route()\n",
    "\n",
    "User inputs a string which is added to the self.routes list\n",
    "\n",
    "Check should be run to see if the string consists of two capital letters (ABCD or E) and an integer (0123456789)\n",
    "\n",
    "If not, return an error message (\"Error : please add the route as two capital letters follow by an integer\")"
   ]
  },
  {
   "attachments": {},
   "cell_type": "markdown",
   "metadata": {},
   "source": [
    "# Design: get_route_distance\n",
    "\n",
    "User inputs get_route_distance(ABC) \n",
    "ABC is the \"towns variable\"\n",
    "\n",
    "function initializes distance as 0\n",
    "\n",
    "function checks len(towns) in this case 3\n",
    "function knows from len(towns) it needs to check len(towns) - 1 routes\n",
    "\n",
    "function takes AB and finds the corresponding distance from stored routes, adds that to distance\n",
    "function moves on to BC and adds that distance.\n",
    "\n",
    "function prints (f\"the distance of route {towns} is {distance})\n",
    "function returns distance\n",
    "\n"
   ]
  },
  {
   "attachments": {},
   "cell_type": "markdown",
   "metadata": {},
   "source": [
    "# Design: get_possible_routes\n",
    "\n",
    "User inputs get_possible_routes(\"C\" , \"C\", max_stops = 3) \n",
    "User can also set max_stops, exact_stops and/or max_distance\n",
    "\n",
    "In order to prevent the program from not ending; user should define one of these 3 variables. \n",
    "If none are defined, return error message \"please define either the max_stops, exact_stops and or max_distance\"\n",
    "\n",
    "function takes the first string (C) and checks all routes starting with C : CD and CE\n",
    "function creates a string for every possible start\n",
    "\n",
    "function checks the end of each string and determines the next possible stops\n",
    "CD can go to C and E\n",
    "CE can only go to B\n",
    "\n",
    "function checks if the string lenghts are < max_stops+1 and passes if true\n",
    "function now has 3 strings\n",
    "CDC \n",
    "CDE\n",
    "CEB\n",
    "\n",
    "function checks if any of the strings ends with self.end (second string in function call, so in this case C)\n",
    "if true the string is stored in posisble routes list and a copy is added to the next part (to check for possible detours)\n",
    "as such CDC is stored in possible routes list\n",
    "CDC is also copied \n",
    "next possible strings are: \n",
    "CDCD\n",
    "CDEB\n",
    "CEBC\n",
    "\n",
    "function checks if any of the strings ends with self.end\n",
    "if true string is added to possible routes list\n",
    "function checks if the string lenght < max_stops+1 and passes if true\n",
    "in this case it won't be true \n",
    "function stores the strings ending with self.end (C)\n",
    "\n",
    "and prints (\"the possible number of routes between {self.start} and {self.end} are {len(possible_routes)}\")\n",
    "returns possible_routes (for use in get_shortest_route)\n",
    "\n",
    "\n",
    "\n",
    "\n"
   ]
  },
  {
   "attachments": {},
   "cell_type": "markdown",
   "metadata": {},
   "source": [
    "# Design: get_shortest_route\n",
    "\n",
    "function uses get possible routes \n",
    "function then determines the lenght of each route with the get route distance function\n",
    "\n",
    "these distances are stored in a list\n",
    "\n",
    "the index of the lowest value is then used to return the corresponding route\n",
    "\n",
    "and prints (f\"the shortest route between {self.start} and {self.end} is {possible_routes[index]} with a distance of {min(distance_list)}\")\n",
    "\n"
   ]
  },
  {
   "cell_type": "code",
   "execution_count": 17,
   "metadata": {},
   "outputs": [],
   "source": [
    "\n",
    "\n",
    "        \n",
    "\n",
    "            \n",
    "        \n",
    "        \n",
    "        \n",
    "        \n",
    "        \n",
    "        "
   ]
  },
  {
   "cell_type": "code",
   "execution_count": 26,
   "metadata": {},
   "outputs": [
    {
     "name": "stdout",
     "output_type": "stream",
     "text": [
      "<__main__.RouteFinder object at 0x000002746684CFD0>\n"
     ]
    }
   ],
   "source": []
  },
  {
   "cell_type": "code",
   "execution_count": 27,
   "metadata": {},
   "outputs": [
    {
     "name": "stdout",
     "output_type": "stream",
     "text": [
      "{'AD5', 'EB3', 'CD8', 'AB5', 'DE6', 'CE2', 'DC8', 'BC4', 'AE7'}\n"
     ]
    }
   ],
   "source": []
  },
  {
   "cell_type": "code",
   "execution_count": null,
   "metadata": {},
   "outputs": [],
   "source": []
  },
  {
   "cell_type": "code",
   "execution_count": null,
   "metadata": {},
   "outputs": [],
   "source": []
  },
  {
   "cell_type": "code",
   "execution_count": null,
   "metadata": {},
   "outputs": [],
   "source": []
  },
  {
   "cell_type": "code",
   "execution_count": null,
   "metadata": {},
   "outputs": [],
   "source": []
  }
 ],
 "metadata": {
  "kernelspec": {
   "display_name": "base",
   "language": "python",
   "name": "python3"
  },
  "language_info": {
   "codemirror_mode": {
    "name": "ipython",
    "version": 3
   },
   "file_extension": ".py",
   "mimetype": "text/x-python",
   "name": "python",
   "nbconvert_exporter": "python",
   "pygments_lexer": "ipython3",
   "version": "3.9.13 (main, Aug 25 2022, 23:51:50) [MSC v.1916 64 bit (AMD64)]"
  },
  "orig_nbformat": 4,
  "vscode": {
   "interpreter": {
    "hash": "ad2bdc8ecc057115af97d19610ffacc2b4e99fae6737bb82f5d7fb13d2f2c186"
   }
  }
 },
 "nbformat": 4,
 "nbformat_minor": 2
}
