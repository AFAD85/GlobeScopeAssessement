{
 "cells": [
  {
   "cell_type": "code",
   "execution_count": null,
   "metadata": {},
   "outputs": [],
   "source": []
  },
  {
   "cell_type": "code",
   "execution_count": 21,
   "metadata": {},
   "outputs": [],
   "source": [
    "graph = {'A': ['B', 'D', 'E'],\n",
    "         'B': ['C'],\n",
    "         'C': ['D','E'],\n",
    "         'D': ['C','E'],\n",
    "         'E': ['B']\n",
    "        }"
   ]
  },
  {
   "cell_type": "code",
   "execution_count": 23,
   "metadata": {},
   "outputs": [
    {
     "name": "stdout",
     "output_type": "stream",
     "text": [
      "<generator object find_routes at 0x000001F2E69F0EB0>\n"
     ]
    }
   ],
   "source": [
    "def find_routes(graph, start, end, max_visit=10):\n",
    "    queue = [(start, [start])]\n",
    "    while queue:\n",
    "        (node, path) = queue.pop(0)\n",
    "        for next_node in graph.get(node, []):\n",
    "            if next_node in path and path.count(next_node) < max_visit:\n",
    "                if next_node == end:\n",
    "                    yield path + [next_node]\n",
    "                else:\n",
    "                    queue.append((next_node, path + [next_node]))\n",
    "\n",
    "# graph = {'A': ['B', 'D', 'E'], 'B': ['C', 'E'], 'C': ['D','E'], 'D': ['C'], 'E': ['B']}\n",
    "\n",
    "routes = list(find_routes(graph, 'A', 'E'))\n",
    "print(routes)\n",
    "\n"
   ]
  },
  {
   "cell_type": "code",
   "execution_count": 14,
   "metadata": {},
   "outputs": [
    {
     "name": "stdout",
     "output_type": "stream",
     "text": [
      "[]\n"
     ]
    }
   ],
   "source": [
    "print(routes)"
   ]
  },
  {
   "cell_type": "code",
   "execution_count": null,
   "metadata": {},
   "outputs": [],
   "source": []
  },
  {
   "cell_type": "code",
   "execution_count": null,
   "metadata": {},
   "outputs": [],
   "source": []
  },
  {
   "cell_type": "code",
   "execution_count": null,
   "metadata": {},
   "outputs": [],
   "source": []
  },
  {
   "cell_type": "code",
   "execution_count": null,
   "metadata": {},
   "outputs": [],
   "source": []
  }
 ],
 "metadata": {
  "kernelspec": {
   "display_name": "base",
   "language": "python",
   "name": "python3"
  },
  "language_info": {
   "codemirror_mode": {
    "name": "ipython",
    "version": 3
   },
   "file_extension": ".py",
   "mimetype": "text/x-python",
   "name": "python",
   "nbconvert_exporter": "python",
   "pygments_lexer": "ipython3",
   "version": "3.9.13 (main, Aug 25 2022, 23:51:50) [MSC v.1916 64 bit (AMD64)]"
  },
  "orig_nbformat": 4,
  "vscode": {
   "interpreter": {
    "hash": "ad2bdc8ecc057115af97d19610ffacc2b4e99fae6737bb82f5d7fb13d2f2c186"
   }
  }
 },
 "nbformat": 4,
 "nbformat_minor": 2
}
