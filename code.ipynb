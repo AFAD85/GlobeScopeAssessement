{
 "cells": [
  {
   "cell_type": "code",
   "execution_count": 85,
   "metadata": {},
   "outputs": [],
   "source": [
    "import re\n",
    "import unittest\n",
    "\n",
    "\n",
    "class RouteFinder():\n",
    "    \n",
    "    def __init__(self, name):\n",
    "        self.name = name\n",
    "        self.routes = dict()\n",
    "        # self.route_names = list()\n",
    "        # self.route_distances = list()\n",
    "        \n",
    "        \n",
    "    def add_route(self, route):\n",
    "        \n",
    "        # checks if the route input is in the correct format\n",
    "        if re.match(r'^[A-E]{2}[0-9]$', route):\n",
    "            \n",
    "            # adds the town letters to the routes dictionary as key, and the distance as value\n",
    "            self.key = str()\n",
    "            self.value = 0\n",
    "            for character in route:\n",
    "                digits = '0123456789'\n",
    "                if character in digits:\n",
    "                    self.value += int(character)\n",
    "                else:\n",
    "                    self.key += character\n",
    "            self.routes.update({self.key: self.value})\n",
    "        else:\n",
    "            print(\"Error: Invalid route, please enter the route in the form of two capital letters followed by an integer 0-9\")\n",
    "        \n",
    "        \n",
    "    def get_route_distance(self, towns):\n",
    "        distance = 0\n",
    "        \n",
    "        # splits the towns string into pairs of 2 \n",
    "        town_pairs = [towns[i:i+2] for i in range(0, (len(towns)-1), 1)]\n",
    "        \n",
    "        # gets the distance of each pair of towns from the routes dictionary and adds these to the distance variable\n",
    "        for town_pair in town_pairs:\n",
    "            if town_pair in self.routes:\n",
    "                sub_distance = self.routes.get(town_pair)\n",
    "                distance += sub_distance\n",
    "            else:\n",
    "                print(\"Error : No such route\")\n",
    "        return distance\n",
    "            \n",
    "        \n",
    "    def get_possible_routes(self, Town1, Town2, max_stops=None, exact_stops=None, max_distance=None):\n",
    "        \n",
    "        # finds all possible routes between two towns, optionally with a maximum number of stops, exact number of stops, or maximum distance\n",
    "        self.start = Town1\n",
    "        self.end = Town2\n",
    "        self.max_stops = max_stops\n",
    "        self.exact_stops = exact_stops\n",
    "        self.max_distance = max_distance\n",
    "        \n",
    "        # User should define either max_stops, exact_stops or max_distance\n",
    "        if not max_stops or exact_stops or max_distance:\n",
    "            print(\"Error: Please define either max_stops, exact_stops or max_distance\")\n",
    "            \n",
    "        # A can never be the end point of a route thus the function returns an error if the end point is set as A\n",
    "        if self.end == 'A':\n",
    "            print(\"Error: A cannot be the end point of a route\")\n",
    "            \n",
    "        # if user sets the exact stops to anything other than None, then the max stops is set to that value\n",
    "        # this automatically cuts off the program after the exact number of stops is reached\n",
    "        if exact_stops:\n",
    "            self.max_stops = exact_stops\n",
    "            \n",
    "        possible_routes = []\n",
    "        \n",
    "        \n",
    "    def get_shortest_route(self, Town1, Town2):\n",
    "        # first finds all possible routes (without repeating), then finds the shortest one among them\n",
    "        self.possible_routes = self.get_possible_routes(Town1, Town2)\n",
    "        self.possible_route_distances = []\n",
    "        \n",
    "        # get the distances of the routes\n",
    "        for route in self.possible_routes:\n",
    "            self.possible_route_distances.append(self.get_route_distance(route))\n",
    "\n",
    "        # find the shortest route out of the routes\n",
    "        self.shortest_route = self.possible_routes[self.possible_route_distances.index(min(self.possible_route_distances))]\n",
    "        \n",
    "        print(f\"the shortest route between {Town1} and {Town2} is {self.shortest_route} with a distance of {min(self.possible_route_distances)}\")\n",
    "        return self.shortest_route\n",
    "    "
   ]
  },
  {
   "cell_type": "code",
   "execution_count": 83,
   "metadata": {},
   "outputs": [
    {
     "name": "stdout",
     "output_type": "stream",
     "text": [
      "Error: Invalid route, please enter the route in the form of two capital letters followed by an integer 0-9\n",
      "<__main__.RouteFinder object at 0x000001EBE6418250>\n"
     ]
    }
   ],
   "source": [
    "test_routefinder = RouteFinder(\"test_routefinder\")\n",
    "#AB5, BC4, CD8, DC8, DE6, AD5, CE2, EB3, AE7\n",
    "test_routefinder.add_route(\"AB5\")\n",
    "test_routefinder.add_route(\"BC4\")\n",
    "test_routefinder.add_route(\"CD8\")\n",
    "test_routefinder.add_route(\"DC8\")\n",
    "test_routefinder.add_route(\"DE6\")\n",
    "test_routefinder.add_route(\"AD5\")\n",
    "test_routefinder.add_route(\"CE2\")\n",
    "test_routefinder.add_route(\"EB3\")\n",
    "test_routefinder.add_route(\"AE7\")\n",
    "print(test_routefinder)"
   ]
  },
  {
   "cell_type": "code",
   "execution_count": 79,
   "metadata": {},
   "outputs": [
    {
     "name": "stdout",
     "output_type": "stream",
     "text": [
      "{'AB': 5, 'BC': 4, 'CD': 8, 'DC': 8, 'DE': 6, 'AD': 5, 'CE': 2, 'EB': 3, 'AE': 7}\n"
     ]
    }
   ],
   "source": [
    "\n",
    "print(test_routefinder.routes)\n"
   ]
  },
  {
   "cell_type": "code",
   "execution_count": 80,
   "metadata": {},
   "outputs": [
    {
     "name": "stdout",
     "output_type": "stream",
     "text": [
      "23\n"
     ]
    }
   ],
   "source": [
    "ABCDE_distance = test_routefinder.get_route_distance(\"ABCDE\")\n",
    "print(ABCDE_distance)"
   ]
  },
  {
   "cell_type": "code",
   "execution_count": 82,
   "metadata": {},
   "outputs": [
    {
     "name": "stdout",
     "output_type": "stream",
     "text": [
      "None\n"
     ]
    }
   ],
   "source": [
    "AC_routes = test_routefinder.get_possible_routes(\"A\", \"C\", max_stops=4)\n",
    "print(AC_routes)"
   ]
  },
  {
   "cell_type": "code",
   "execution_count": 7,
   "metadata": {},
   "outputs": [
    {
     "data": {
      "text/plain": [
       "True"
      ]
     },
     "execution_count": 7,
     "metadata": {},
     "output_type": "execute_result"
    }
   ],
   "source": []
  },
  {
   "cell_type": "code",
   "execution_count": null,
   "metadata": {},
   "outputs": [],
   "source": []
  },
  {
   "cell_type": "code",
   "execution_count": null,
   "metadata": {},
   "outputs": [],
   "source": []
  },
  {
   "cell_type": "code",
   "execution_count": null,
   "metadata": {},
   "outputs": [],
   "source": []
  },
  {
   "cell_type": "code",
   "execution_count": null,
   "metadata": {},
   "outputs": [],
   "source": []
  },
  {
   "cell_type": "code",
   "execution_count": null,
   "metadata": {},
   "outputs": [],
   "source": []
  }
 ],
 "metadata": {
  "kernelspec": {
   "display_name": "base",
   "language": "python",
   "name": "python3"
  },
  "language_info": {
   "codemirror_mode": {
    "name": "ipython",
    "version": 3
   },
   "file_extension": ".py",
   "mimetype": "text/x-python",
   "name": "python",
   "nbconvert_exporter": "python",
   "pygments_lexer": "ipython3",
   "version": "3.9.13"
  },
  "orig_nbformat": 4,
  "vscode": {
   "interpreter": {
    "hash": "ad2bdc8ecc057115af97d19610ffacc2b4e99fae6737bb82f5d7fb13d2f2c186"
   }
  }
 },
 "nbformat": 4,
 "nbformat_minor": 2
}
