{
 "cells": [
  {
   "cell_type": "code",
   "execution_count": null,
   "metadata": {},
   "outputs": [],
   "source": [
    "class RouteFinder():\n",
    "    \n",
    "    def __init__(self, name):\n",
    "        self.name = name\n",
    "        self.routes = set()\n",
    "        \n",
    "    def add_route(self, route):\n",
    "        self.routes.add(route)\n",
    "        \n",
    "    def get_route_distance(self, towns):\n",
    "        distance = 0\n",
    "        # adds the distances \n",
    "        for town in towns:\n",
    "            pass\n",
    "        \n",
    "    def get_possible_routes(self, Town1, Town2, max_stops=None, exact_stops=None, max_distance=None):\n",
    "        \n",
    "        # finds all possible routes between two towns, optionally with a maximum number of stops, exact number of stops, or maximum distance\n",
    "        self.start = Town1\n",
    "        self.end = Town2\n",
    "        self.max_stops = max_stops\n",
    "        self.exact_stops = exact_stops\n",
    "        self.max_distance = max_distance\n",
    "        \n",
    "        # User should define either max_stops, exact_stops or max_distance\n",
    "        if not max_stops or exact_stops or max_distance:\n",
    "            print(\"Error: Please define either max_stops, exact_stops or max_distance\")\n",
    "            \n",
    "        # A can never be the end point of a route thus the function returns an error if the end point is set as A\n",
    "        if self.end == 'A':\n",
    "            print(\"Error: A cannot be the end point of a route\")\n",
    "            \n",
    "        # if user sets the exact stops to anything other than None, then the max stops is set to that value\n",
    "        # this automatically cuts off the program after the exact number of stops is reached\n",
    "        if exact_stops:\n",
    "            self.max_stops = exact_stops\n",
    "            \n",
    "        possible_routes = []\n",
    "        \n",
    "        \n",
    "    def get_shortest_route(self, Town1, Town2):\n",
    "        # first finds all possible routes (without repeating), then finds the shortest one among them\n",
    "        self.possible_routes = self.get_possible_routes(Town1, Town2)\n",
    "        self.possible_route_distances = []\n",
    "        \n",
    "        # get the distances of the routes\n",
    "        for route in self.possible_routes:\n",
    "            self.possible_route_distances.append(self.get_route_distance(route))\n",
    "\n",
    "        # find the shortest route out of the routes\n",
    "        self.shortest_route = self.possible_routes[self.possible_route_distances.index(min(self.possible_route_distances))]\n",
    "        \n",
    "        print(f\"the shortest route between {Town1} and {Town2} is {self.shortest_route} with a distance of {min(self.possible_route_distances)}\")\n",
    "        return self.shortest_route\n",
    "    "
   ]
  },
  {
   "cell_type": "code",
   "execution_count": null,
   "metadata": {},
   "outputs": [],
   "source": [
    "test_routefinder = RouteFinder(\"test_routefinder\")\n",
    "#AB5, BC4, CD8, DC8, DE6, AD5, CE2, EB3, AE7\n",
    "test_routefinder.add_route(\"AB5\")\n",
    "test_routefinder.add_route(\"BC4\")\n",
    "test_routefinder.add_route(\"CD8\")\n",
    "test_routefinder.add_route(\"DC8\")\n",
    "test_routefinder.add_route(\"DE6\")\n",
    "test_routefinder.add_route(\"AD5\")\n",
    "test_routefinder.add_route(\"CE2\")\n",
    "test_routefinder.add_route(\"EB3\")\n",
    "test_routefinder.add_route(\"AE7\")\n",
    "print(test_routefinder)"
   ]
  },
  {
   "cell_type": "code",
   "execution_count": null,
   "metadata": {},
   "outputs": [],
   "source": [
    "\n",
    "print(test_routefinder.routes)"
   ]
  },
  {
   "cell_type": "code",
   "execution_count": null,
   "metadata": {},
   "outputs": [],
   "source": []
  },
  {
   "cell_type": "code",
   "execution_count": null,
   "metadata": {},
   "outputs": [],
   "source": []
  },
  {
   "cell_type": "code",
   "execution_count": null,
   "metadata": {},
   "outputs": [],
   "source": []
  },
  {
   "cell_type": "code",
   "execution_count": null,
   "metadata": {},
   "outputs": [],
   "source": []
  },
  {
   "cell_type": "code",
   "execution_count": null,
   "metadata": {},
   "outputs": [],
   "source": []
  },
  {
   "cell_type": "code",
   "execution_count": null,
   "metadata": {},
   "outputs": [],
   "source": []
  },
  {
   "cell_type": "code",
   "execution_count": null,
   "metadata": {},
   "outputs": [],
   "source": []
  },
  {
   "cell_type": "code",
   "execution_count": null,
   "metadata": {},
   "outputs": [],
   "source": []
  }
 ],
 "metadata": {
  "language_info": {
   "name": "python"
  },
  "orig_nbformat": 4
 },
 "nbformat": 4,
 "nbformat_minor": 2
}
