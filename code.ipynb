{
 "cells": [
  {
   "cell_type": "code",
   "execution_count": 71,
   "metadata": {},
   "outputs": [],
   "source": [
    "import re\n",
    "import unittest\n",
    "\n",
    "\n",
    "class RouteFinder():\n",
    "    \n",
    "    def __init__(self, name):\n",
    "        self.name = name\n",
    "        \n",
    "        # creates 2 dictionaries one to hold the possible edges (keys) with their corresonding distances (values), \n",
    "        # the second holds all possible edges from every start node (keys) to every neighbouring node (values)\n",
    "        # Note: different use of edge and edges\n",
    "        self.edge_distances = dict()\n",
    "        self.edges = dict()\n",
    "        \n",
    "        \n",
    "    def add_edge(self, edge):\n",
    "        \n",
    "        # checks if the edge input is in the correct format\n",
    "        if re.match(r'^[A-E]{2}[0-9]$', edge):\n",
    "            \n",
    "            # creates variables to store the edge name and distance\n",
    "            self.edge_distances_key = str()\n",
    "            self.edge_distances_value = 0\n",
    "            \n",
    "            # adds the node letters to the edge distances dictionary as key, and the distance as value\n",
    "            for character in edge:\n",
    "\n",
    "                digits = '0123456789'\n",
    "                \n",
    "                # finds the digits in the edge string and adds them to the value variable\n",
    "                if character in digits:\n",
    "                    self.edge_distances_value += int(character)\n",
    "                    \n",
    "                else:\n",
    "                    self.edge_distances_key += character\n",
    "                    \n",
    "                    \n",
    "            # checks if the start node is already in the edges dictionary, if not it adds it as a key with the end node as a value \n",
    "            if not edge[0] in self.edges.keys():\n",
    "                \n",
    "                self.edges_key = edge[0]\n",
    "                self.edges_value = [edge[1]]\n",
    "                self.edges.update({self.edges_key : self.edges_value})\n",
    "            \n",
    "            else:\n",
    "                self.edges[edge[0][0]].append(edge[1])\n",
    "            \n",
    "\n",
    "                    \n",
    "            self.edge_distances.update({self.edge_distances_key : self.edge_distances_value})\n",
    "\n",
    "        else:\n",
    "            print(\"Error: Invalid input, please enter in the form of two capital letters A-E followed by an integer 0-9\")\n",
    "        \n",
    "        \n",
    "    def get_route_distance(self, nodes):\n",
    "        distance = 0\n",
    "        \n",
    "        # splits the nodes string into pairs of 2 \n",
    "        node_pairs = [nodes[i:i+2] for i in range(0, (len(nodes)-1), 1)]\n",
    "        \n",
    "        # gets the distance of each pair of towns from the routes dictionary and adds these to the distance variable\n",
    "        for town_pair in node_pairs:\n",
    "            if town_pair in self.edge_distances:\n",
    "                sub_distance = self.edge_distances.get(town_pair)\n",
    "                distance += sub_distance\n",
    "            else:\n",
    "                print(\"Error : No such route\")\n",
    "        return distance\n",
    "            \n",
    "        \n",
    "    def get_possible_routes(self, Town1, Town2, max_stops=None, exact_stops=None, max_distance=None):\n",
    "        \n",
    "        # finds all possible routes between two towns, optionally with a maximum number of stops, exact number of stops, or maximum distance\n",
    "        self.start = Town1\n",
    "        self.end = Town2\n",
    "        self.max_stops = max_stops\n",
    "        self.exact_stops = exact_stops\n",
    "        self.max_distance = max_distance\n",
    "        \n",
    "        # User should define either max_stops, exact_stops or max_distance\n",
    "        if not (max_stops or exact_stops or max_distance):\n",
    "            return ValueError(\"Missing arguements, please define exactly one of max_stops, exact_stops or max_distance\")\n",
    "        \n",
    "        args_count = 0\n",
    "        \n",
    "        if max_stops != None:\n",
    "            args_count += 1\n",
    "            \n",
    "        if exact_stops != None:\n",
    "            args_count += 1\n",
    "            \n",
    "        if max_distance != None:\n",
    "            args_count += 1\n",
    "\n",
    "        if args_count > 1:\n",
    "            return ValueError(\"Too many arguements, please define exactly one of max_stops, exact_stops or max_distance\")\n",
    "            \n",
    "            \n",
    "            \n",
    "\n",
    "            \n",
    "        # if user sets the exact stops to anything other than None, then the max stops is set to that value\n",
    "        # this automatically cuts off the program after the exact number of stops is reached\n",
    "\n",
    "            \n",
    "        possible_routes = []\n",
    "        \n",
    "        \n",
    "        \n",
    "        \n",
    "    def get_shortest_route(self, Town1, Town2):\n",
    "        # first finds all possible routes (without repeating), then finds the shortest one among them, max 10 stops allowed to allow all routes and prevent repeating routes\n",
    "        self.possible_routes = self.get_possible_routes(Town1, Town2, max_stops= 10)\n",
    "        self.possible_route_distances = []\n",
    "        \n",
    "        # get the distances of the routes\n",
    "        for route in self.possible_routes:\n",
    "            self.possible_route_distances.append(self.get_route_distance(route))\n",
    "\n",
    "        # find the shortest route out of the routes\n",
    "        self.shortest_route = self.possible_routes[self.possible_route_distances.index(min(self.possible_route_distances))]\n",
    "        \n",
    "        print(f\"the shortest route between {Town1} and {Town2} is {self.shortest_route} with a distance of {min(self.possible_route_distances)}\")\n",
    "        return self.shortest_route\n",
    "    "
   ]
  },
  {
   "cell_type": "code",
   "execution_count": 76,
   "metadata": {},
   "outputs": [
    {
     "name": "stdout",
     "output_type": "stream",
     "text": [
      "<__main__.RouteFinder object at 0x0000025833400550>\n"
     ]
    }
   ],
   "source": [
    "test_routefinder = RouteFinder(\"test_routefinder\")\n",
    "#AB5, BC4, CD8, DC8, DE6, AD5, CE2, EB3, AE7\n",
    "test_routefinder.add_edge(\"AB5\")\n",
    "test_routefinder.add_edge(\"BC4\")\n",
    "test_routefinder.add_edge(\"CD8\")\n",
    "test_routefinder.add_edge(\"DC8\")\n",
    "test_routefinder.add_edge(\"DE6\")\n",
    "test_routefinder.add_edge(\"AD5\")\n",
    "test_routefinder.add_edge(\"CE2\")\n",
    "test_routefinder.add_edge(\"EB3\")\n",
    "test_routefinder.add_edge(\"AE7\")\n",
    "print(test_routefinder)"
   ]
  },
  {
   "cell_type": "code",
   "execution_count": 77,
   "metadata": {},
   "outputs": [
    {
     "name": "stdout",
     "output_type": "stream",
     "text": [
      "{'AB': 5, 'BC': 4, 'CD': 8, 'DC': 8, 'DE': 6, 'AD': 5, 'CE': 2, 'EB': 3, 'AE': 7}\n",
      "{'A': ['B', 'D', 'E'], 'B': ['C'], 'C': ['D', 'E'], 'D': ['C', 'E'], 'E': ['B']}\n"
     ]
    }
   ],
   "source": [
    "\n",
    "print(test_routefinder.edge_distances)\n",
    "print(test_routefinder.edges)"
   ]
  },
  {
   "cell_type": "code",
   "execution_count": 80,
   "metadata": {},
   "outputs": [
    {
     "name": "stdout",
     "output_type": "stream",
     "text": [
      "17\n"
     ]
    }
   ],
   "source": [
    "ABCD_distance = test_routefinder.get_route_distance(\"ABCD\")\n",
    "print(ABCD_distance)"
   ]
  },
  {
   "cell_type": "code",
   "execution_count": 75,
   "metadata": {},
   "outputs": [
    {
     "name": "stdout",
     "output_type": "stream",
     "text": [
      "None\n"
     ]
    }
   ],
   "source": [
    "AC_routes = test_routefinder.get_possible_routes(\"A\", \"C\", max_stops=4)\n",
    "print(AC_routes)"
   ]
  },
  {
   "cell_type": "code",
   "execution_count": 7,
   "metadata": {},
   "outputs": [
    {
     "data": {
      "text/plain": [
       "True"
      ]
     },
     "execution_count": 7,
     "metadata": {},
     "output_type": "execute_result"
    }
   ],
   "source": []
  },
  {
   "cell_type": "code",
   "execution_count": null,
   "metadata": {},
   "outputs": [],
   "source": []
  },
  {
   "cell_type": "code",
   "execution_count": null,
   "metadata": {},
   "outputs": [],
   "source": []
  },
  {
   "cell_type": "code",
   "execution_count": null,
   "metadata": {},
   "outputs": [],
   "source": []
  },
  {
   "cell_type": "code",
   "execution_count": null,
   "metadata": {},
   "outputs": [],
   "source": []
  },
  {
   "cell_type": "code",
   "execution_count": null,
   "metadata": {},
   "outputs": [],
   "source": []
  }
 ],
 "metadata": {
  "kernelspec": {
   "display_name": "base",
   "language": "python",
   "name": "python3"
  },
  "language_info": {
   "codemirror_mode": {
    "name": "ipython",
    "version": 3
   },
   "file_extension": ".py",
   "mimetype": "text/x-python",
   "name": "python",
   "nbconvert_exporter": "python",
   "pygments_lexer": "ipython3",
   "version": "3.9.13"
  },
  "orig_nbformat": 4,
  "vscode": {
   "interpreter": {
    "hash": "ad2bdc8ecc057115af97d19610ffacc2b4e99fae6737bb82f5d7fb13d2f2c186"
   }
  }
 },
 "nbformat": 4,
 "nbformat_minor": 2
}
